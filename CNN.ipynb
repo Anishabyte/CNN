{
  "nbformat": 4,
  "nbformat_minor": 0,
  "metadata": {
    "colab": {
      "provenance": [],
      "gpuType": "T4",
      "authorship_tag": "ABX9TyPiwD0qP21oAKS0Sgvb79Ra",
      "include_colab_link": true
    },
    "kernelspec": {
      "name": "python3",
      "display_name": "Python 3"
    },
    "language_info": {
      "name": "python"
    }
  },
  "cells": [
    {
      "cell_type": "markdown",
      "metadata": {
        "id": "view-in-github",
        "colab_type": "text"
      },
      "source": [
        "<a href=\"https://colab.research.google.com/github/Anishabyte/CNN/blob/main/CNN.ipynb\" target=\"_parent\"><img src=\"https://colab.research.google.com/assets/colab-badge.svg\" alt=\"Open In Colab\"/></a>"
      ]
    },
    {
      "cell_type": "code",
      "execution_count": null,
      "metadata": {
        "id": "6jjKh-m6kD_I"
      },
      "outputs": [],
      "source": [
        "# Download dataset(CIFAR 10)\n",
        "# Dataloader in torch.utils\n",
        "# visualizing images\n",
        "# Single and multiple convolutional layer\n",
        "# Lenet\n",
        "# Training lenet\n",
        "# Training on GPU\n",
        "# simple visualiation\n",
        "# Excersizes"
      ]
    },
    {
      "cell_type": "code",
      "source": [
        "import torch\n",
        "import matplotlib.pyplot as plt\n",
        "import numpy as np"
      ],
      "metadata": {
        "id": "GuQMs-v9k1BT"
      },
      "execution_count": null,
      "outputs": []
    },
    {
      "cell_type": "markdown",
      "source": [
        "Data Loading(cifar10(10 classes) dataset having 60 k data  of 32 X32 colour images."
      ],
      "metadata": {
        "id": "CWnWEwfilE7m"
      }
    },
    {
      "cell_type": "code",
      "source": [
        "import torchvision\n",
        "import torchvision.transforms as transforms\n",
        "# torchvision for downloading the data locally of cifar 10 and transform the data into tensors\n",
        "# so that we can do the work\n",
        "trainset=torchvision.datasets.CIFAR10(root='./data',train=True,download=True,transform=transforms.ToTensor())"
      ],
      "metadata": {
        "colab": {
          "base_uri": "https://localhost:8080/"
        },
        "id": "aQAA32FSlCNG",
        "outputId": "a4ff87a5-914b-436d-c978-82c4fc6c0479"
      },
      "execution_count": null,
      "outputs": [
        {
          "output_type": "stream",
          "name": "stdout",
          "text": [
            "Downloading https://www.cs.toronto.edu/~kriz/cifar-10-python.tar.gz to ./data/cifar-10-python.tar.gz\n"
          ]
        },
        {
          "output_type": "stream",
          "name": "stderr",
          "text": [
            "100%|██████████| 170M/170M [00:04<00:00, 41.2MB/s]\n"
          ]
        },
        {
          "output_type": "stream",
          "name": "stdout",
          "text": [
            "Extracting ./data/cifar-10-python.tar.gz to ./data\n"
          ]
        }
      ]
    },
    {
      "cell_type": "code",
      "source": [
        "classes=['plane','car','bird','cat','deer','dog','frog','horse','ship','truck']"
      ],
      "metadata": {
        "id": "Btf__fbNlUsV"
      },
      "execution_count": null,
      "outputs": []
    },
    {
      "cell_type": "code",
      "source": [
        "trainloader=torch.utils.data.DataLoader(trainset,batch_size=4,shuffle=True)\n",
        "# we are loading the dataset in certain batch size here 4(we will get 4 images randomly)\n",
        "# and if we don not shuffle we sometimes end up in the same batches loading the same image again and again"
      ],
      "metadata": {
        "id": "-TYrO8mwlf-B"
      },
      "execution_count": null,
      "outputs": []
    },
    {
      "cell_type": "code",
      "source": [
        "detaiter=iter(trainloader)\n",
        "# dataiter is an iterator that will iterate over the batches and the next gives one instance of 4 images together\n",
        "images,labels=next(detaiter)\n",
        "print(images.shape)\n",
        "print(images[0].shape)\n",
        "print(labels[0].item())\n",
        "# so the output 5 means the randomly choosen data is a dog\n",
        "# 4 images 3 channels(RGB) and 32 32 size of image"
      ],
      "metadata": {
        "colab": {
          "base_uri": "https://localhost:8080/"
        },
        "id": "QhQiza18mw56",
        "outputId": "a6c8f7a6-a6c8-492f-c439-6a29a2c24db6"
      },
      "execution_count": null,
      "outputs": [
        {
          "output_type": "stream",
          "name": "stdout",
          "text": [
            "torch.Size([4, 3, 32, 32])\n",
            "torch.Size([3, 32, 32])\n",
            "0\n"
          ]
        }
      ]
    },
    {
      "cell_type": "markdown",
      "source": [
        "Visualizing data"
      ],
      "metadata": {
        "id": "eq4968AToqR-"
      }
    },
    {
      "cell_type": "code",
      "source": [
        "img=images[0]\n",
        "# taking the 4th image from the batch of 4\n",
        "print(type(img))\n",
        "# so the image is a tensor of size 32 X 32 X 3"
      ],
      "metadata": {
        "colab": {
          "base_uri": "https://localhost:8080/"
        },
        "id": "L6Myc-Mam1ig",
        "outputId": "ea9fcee8-d60e-4ec7-dc0e-432887c93702"
      },
      "execution_count": null,
      "outputs": [
        {
          "output_type": "stream",
          "name": "stdout",
          "text": [
            "<class 'torch.Tensor'>\n"
          ]
        }
      ]
    },
    {
      "cell_type": "code",
      "source": [
        "npimg=img.numpy()\n",
        "print(npimg.shape)\n",
        "# we are converting the tensor into numpy in order to plot the image"
      ],
      "metadata": {
        "colab": {
          "base_uri": "https://localhost:8080/"
        },
        "id": "b5BPVSPGpdUU",
        "outputId": "d83f1e27-e922-4550-9f55-5f465d5fc8a3"
      },
      "execution_count": null,
      "outputs": [
        {
          "output_type": "stream",
          "name": "stdout",
          "text": [
            "(3, 32, 32)\n"
          ]
        }
      ]
    },
    {
      "cell_type": "code",
      "source": [
        "npimg=np.transpose(npimg,(1,2,0))\n",
        "print(npimg.shape)\n",
        "# PyTorch stores images in (C, H, W) format, but matplotlib expects (H, W, C).\n",
        "# we need to permute the matrix in any dimension for a higher dimension matrix\n",
        "# we need to have it in the orm of  x y z to plot  so  x=32(1) y=32(2) and z=3(0)\n",
        "# so the output is  32 32 3 denoting x y z"
      ],
      "metadata": {
        "colab": {
          "base_uri": "https://localhost:8080/"
        },
        "id": "KPdQlNdgpsqL",
        "outputId": "45180c2c-a942-4ac3-b39b-c1f5a6980ed2"
      },
      "execution_count": null,
      "outputs": [
        {
          "output_type": "stream",
          "name": "stdout",
          "text": [
            "(32, 32, 3)\n"
          ]
        }
      ]
    },
    {
      "cell_type": "code",
      "source": [
        "plt.figure(figsize=(1,1))\n",
        "plt.imshow(npimg)\n",
        "# imshow for image plotting in matplotlib\n",
        "plt.show()\n",
        "# as the batch was 5 so it is plotting a do g\n",
        "# so there is an x and y axis and there is 3 channels to show the rgb image"
      ],
      "metadata": {
        "colab": {
          "base_uri": "https://localhost:8080/",
          "height": 142
        },
        "id": "oOOGxXdiqhPc",
        "outputId": "b4907535-47a7-4113-9025-bef062a81c63"
      },
      "execution_count": null,
      "outputs": [
        {
          "output_type": "display_data",
          "data": {
            "text/plain": [
              "<Figure size 100x100 with 1 Axes>"
            ],
            "image/png": "[encoded data removed]"
          },
          "metadata": {}
        }
      ]
    },
    {
      "cell_type": "code",
      "source": [
        "def imshow(img):\n",
        "    # img=img/2+0.5\n",
        "    npimg=img.numpy()\n",
        "    # plt.figure(figsize=(1,1))\n",
        "    plt.imshow(np.transpose(npimg,(1,2,0)))\n",
        "    plt.show()\n",
        "# we are previously just plotting one image so if we want to plot all images of\n",
        "# the batch"
      ],
      "metadata": {
        "id": "LVAXkPf8q56_"
      },
      "execution_count": null,
      "outputs": []
    },
    {
      "cell_type": "code",
      "source": [
        "\n",
        "imshow(torchvision.utils.make_grid(images))\n",
        "print(' '.join(classes[labels[j].item()] for j in range(4)))\n",
        "# for plotting all images of the batch we use utils.make_grid\n",
        "# imshow is a matplot function for plotting and the black borders are done by grid"
      ],
      "metadata": {
        "colab": {
          "base_uri": "https://localhost:8080/",
          "height": 210
        },
        "id": "M7JxqC8KTtFD",
        "outputId": "7d9e9f76-7402-4f45-9428-83ed7da77ff5"
      },
      "execution_count": null,
      "outputs": [
        {
          "output_type": "display_data",
          "data": {
            "text/plain": [
              "<Figure size 640x480 with 1 Axes>"
            ],
            "image/png": "[encoded data removed]"
          },
          "metadata": {}
        },
        {
          "output_type": "stream",
          "name": "stdout",
          "text": [
            "plane ship cat car\n"
          ]
        }
      ]
    },
    {
      "cell_type": "markdown",
      "source": [
        "Single convolutional layer"
      ],
      "metadata": {
        "id": "J_Pqj96fWJNW"
      }
    },
    {
      "cell_type": "code",
      "source": [
        "import torch.nn as nn\n",
        "# from nn we are inheriting the nn.conv2d function for doing the convolutional operation\n",
        "class FirstCNN(nn.Module):\n",
        "    def __init__(self):\n",
        "        super(FirstCNN, self).__init__()\n",
        "        # it is a 2d convolution though the tensor is 4d having 4 batches 3 chanels and image size 32 32 but the kernel moves in 2d\n",
        "        # nn.Conv2d(in_channels, out_channels, kernel_size, ...)\n",
        "        # stride ensure that the filter moves here 2 steps at a time\n",
        "        self.conv1=nn.Conv2d(3,16,3,padding=(1,1),stride=(2,2))\n",
        "        # 1st parameter is the no of channels 3 and 16 channels as output is what we want different kernel and a kernel(filter) of size 3\n",
        "        #padding=(1,1),stride=(2,2)\n",
        "    def forward(self,x):\n",
        "          # we will do the forward pass and return the output after 1st convolutional layer\n",
        "          x=self.conv1(x)\n",
        "          return x\n"
      ],
      "metadata": {
        "id": "jhx4ngnHUKr-"
      },
      "execution_count": null,
      "outputs": []
    },
    {
      "cell_type": "code",
      "source": [
        "net=FirstCNN()"
      ],
      "metadata": {
        "id": "6G_9cEHnWwz3"
      },
      "execution_count": null,
      "outputs": []
    },
    {
      "cell_type": "code",
      "source": [
        "out=net(images)\n",
        "out.shape\n",
        "# as we are not applying any padding in our conv layer we are ending up losing\n",
        "# some layer leading to 32X 32 to shrink down to 30 X 30"
      ],
      "metadata": {
        "colab": {
          "base_uri": "https://localhost:8080/"
        },
        "id": "xah2apN_W2AI",
        "outputId": "af95ae62-29a6-4c8e-c956-3d0a6527a1cf"
      },
      "execution_count": null,
      "outputs": [
        {
          "output_type": "execute_result",
          "data": {
            "text/plain": [
              "torch.Size([4, 16, 16, 16])"
            ]
          },
          "metadata": {},
          "execution_count": 15
        }
      ]
    },
    {
      "cell_type": "code",
      "source": [
        "for param in net.parameters():\n",
        "    print(param.shape)\n",
        "# so there are several parameters created on doing nn.convo2d\n",
        "# 1.16 kernel each of size (depth) 3 and a kernel of size 3 writen an 3 3"
      ],
      "metadata": {
        "colab": {
          "base_uri": "https://localhost:8080/"
        },
        "id": "f_3MMUixunCe",
        "outputId": "6d397eaf-f6ca-499b-9ff8-3c23fc37bd98"
      },
      "execution_count": null,
      "outputs": [
        {
          "output_type": "stream",
          "name": "stdout",
          "text": [
            "torch.Size([16, 3, 3, 3])\n",
            "torch.Size([16])\n"
          ]
        }
      ]
    },
    {
      "cell_type": "code",
      "source": [
        "out1=out[0,0,:,:].detach().numpy()\n",
        "# converting it to numpy to plot it\n",
        "print(out1.shape)"
      ],
      "metadata": {
        "colab": {
          "base_uri": "https://localhost:8080/"
        },
        "id": "GvOE59jkwInn",
        "outputId": "2fb8d795-9c28-429d-e8ba-ac3b1ce77959"
      },
      "execution_count": null,
      "outputs": [
        {
          "output_type": "stream",
          "name": "stdout",
          "text": [
            "(16, 16)\n"
          ]
        }
      ]
    },
    {
      "cell_type": "code",
      "source": [
        "plt.imshow(out[0,0,:,:].detach().numpy())\n",
        "plt.show()"
      ],
      "metadata": {
        "colab": {
          "base_uri": "https://localhost:8080/",
          "height": 430
        },
        "id": "j_20MzW4w-05",
        "outputId": "b99c7a5f-1af5-432f-bc00-048670ac1eae"
      },
      "execution_count": null,
      "outputs": [
        {
          "output_type": "display_data",
          "data": {
            "text/plain": [
              "<Figure size 640x480 with 1 Axes>"
            ],
            "image/png": "[encoded data removed]"
          },
          "metadata": {}
        }
      ]
    },
    {
      "cell_type": "markdown",
      "source": [
        "Deep Convolutional Network"
      ],
      "metadata": {
        "id": "RLp9Ok2nbLJc"
      }
    },
    {
      "cell_type": "code",
      "source": [
        "import torch.nn as nn\n",
        "class FirstCNN_v2(nn.Module):\n",
        "  def __init__(self):\n",
        "    super(FirstCNN_v2,self).__init__()\n",
        "    self.model=nn.Sequential(\n",
        "        # 3 input channel 8 output channel and 3 size kernel\n",
        "        # (N,3,32,32) ->(N,8,30,30) N is the batch size\n",
        "        nn.Conv2d(3,8,3),\n",
        "        # 8 input channel frim previous layer output and we need a 16 layer output and 3 kernel size\n",
        "        # (N,8,30,30) ->(N,16,28,28) (coz we have no padding we will lose the layers)\n",
        "        nn.Conv2d(8,16,3),\n",
        "    )\n",
        "  def forward(self,x):\n",
        "     x=self.model(x)\n",
        "     return x"
      ],
      "metadata": {
        "id": "z-VUlq77xGH8"
      },
      "execution_count": null,
      "outputs": []
    },
    {
      "cell_type": "code",
      "source": [
        "net=FirstCNN_v2()\n",
        "out=net(images)\n",
        "out.shape\n",
        "# so the req output comes as 4,16,28,28"
      ],
      "metadata": {
        "colab": {
          "base_uri": "https://localhost:8080/"
        },
        "id": "tonroIpjbxzK",
        "outputId": "91a5aca8-2ecf-4443-c844-ac0143d64f38"
      },
      "execution_count": null,
      "outputs": [
        {
          "output_type": "execute_result",
          "data": {
            "text/plain": [
              "torch.Size([4, 16, 28, 28])"
            ]
          },
          "metadata": {},
          "execution_count": 21
        }
      ]
    },
    {
      "cell_type": "code",
      "source": [
        "plt.imshow(out[0,0,:,:].detach().numpy())\n",
        "# 0th image of 0th channel\n",
        "plt.show()"
      ],
      "metadata": {
        "colab": {
          "base_uri": "https://localhost:8080/",
          "height": 430
        },
        "id": "zCiantHSb7Gq",
        "outputId": "2ef53a20-6f56-4292-9c01-b02b233eabe1"
      },
      "execution_count": null,
      "outputs": [
        {
          "output_type": "display_data",
          "data": {
            "text/plain": [
              "<Figure size 640x480 with 1 Axes>"
            ],
            "image/png": "[encoded data removed]"
          },
          "metadata": {}
        }
      ]
    },
    {
      "cell_type": "code",
      "source": [
        "class FirstCNN_v3(nn.Module):\n",
        "  def __init__(self):\n",
        "    super(FirstCNN_v3,self).__init__()\n",
        "    self.model=nn.Sequential(\n",
        "        nn.Conv2d(3,6,5),\n",
        "        # (N,3,32,32)->(N,6,28,28)\n",
        "        nn.AvgPool2d(2,stride=2),\n",
        "        # 2 corresponds to 2,2 matrix for averaging the data\n",
        "        # (N,6,28,28)->(N,6,14,14)\n",
        "        nn.Conv2d(6,16,5),\n",
        "        # (N,6,14,14) -> (N,16,10,10)\n",
        "        nn.AvgPool2d(2,stride=2)\n",
        "        # (N,16,10,10) ->(N,16,5,5)\n",
        "    )\n",
        "  def forward(self,x):\n",
        "      x=self.model(x)\n",
        "      return x\n",
        "# mixing conviolutional layer with Average Pooling layerstride 2 means we\n",
        "# are moving 2 steps to the right and 2 step to the bottom"
      ],
      "metadata": {
        "id": "csw-SzBwfxCu"
      },
      "execution_count": null,
      "outputs": []
    },
    {
      "cell_type": "code",
      "source": [
        "net=FirstCNN_v3()\n",
        "out=net(images)\n",
        "out.shape"
      ],
      "metadata": {
        "colab": {
          "base_uri": "https://localhost:8080/"
        },
        "id": "gLYNidtRf1Zx",
        "outputId": "bbb8ea6f-9cd6-4f00-dcd3-17ab89a8cce3"
      },
      "execution_count": null,
      "outputs": [
        {
          "output_type": "execute_result",
          "data": {
            "text/plain": [
              "torch.Size([4, 16, 5, 5])"
            ]
          },
          "metadata": {},
          "execution_count": 25
        }
      ]
    },
    {
      "cell_type": "code",
      "source": [
        "plt.imshow(out[0,0,:,:].detach().numpy())"
      ],
      "metadata": {
        "colab": {
          "base_uri": "https://localhost:8080/",
          "height": 447
        },
        "id": "ZGPcVeNXhvwj",
        "outputId": "e675263b-f20f-4d69-bb9e-55e54c8c3dca"
      },
      "execution_count": null,
      "outputs": [
        {
          "output_type": "execute_result",
          "data": {
            "text/plain": [
              "<matplotlib.image.AxesImage at 0x7f42d63dd2a0>"
            ]
          },
          "metadata": {},
          "execution_count": 26
        },
        {
          "output_type": "display_data",
          "data": {
            "text/plain": [
              "<Figure size 640x480 with 1 Axes>"
            ],
            "image/png": "[encoded data removed]"
          },
          "metadata": {}
        }
      ]
    },
    {
      "cell_type": "markdown",
      "source": [
        "***Lenet Network***\n",
        "\n",
        "having image convolution layer1 pooling layer1 convolutiona layer2 pooling layer 2 and some fully connected network and so on"
      ],
      "metadata": {
        "id": "AogFTxkfuxVP"
      }
    },
    {
      "cell_type": "code",
      "source": [
        "class LeNet(nn.Module):\n",
        "  def __init__(self):\n",
        "    super(LeNet,self).__init__()\n",
        "    # these are the different cnn layer\n",
        "    self.cnn_model=nn.Sequential(\n",
        "        # (N,3,32,32)->(N,6,28,28)\n",
        "        nn.Conv2d(3,6,5),\n",
        "        nn.Tanh(),\n",
        "        # (N,6,28,28)->(N,6,14,14)\n",
        "        nn.AvgPool2d(2,stride=2),\n",
        "        # (N,6,10,10) ->(N,16,10,10)\n",
        "        nn.Conv2d(6,16,5),\n",
        "        nn.Tanh(),\n",
        "        # (N,16,10,10) ->(N,16,5,5)\n",
        "        nn.AvgPool2d(2,stride=2)\n",
        "    )\n",
        "    # apply fully connected layer to flaten the output from multiple layers\n",
        "    self.fc_model=nn.Sequential(\n",
        "        # 16 X 16 x5 =400\n",
        "        # (N,400) ->(N,120)\n",
        "        nn.Linear(400,120),\n",
        "        nn.Tanh(),\n",
        "        # (N,120) ->(N,84)\n",
        "        nn.Linear(120,84),\n",
        "        nn.Tanh(),\n",
        "        # (N,84) -> (N,10)\n",
        "        nn.Linear(84,10)\n",
        "    )\n",
        "  def forward(self,x):\n",
        "    print(x.shape)\n",
        "    # first applying cnn function using various layers\n",
        "    x=self.cnn_model(x)\n",
        "    print(x.shape)\n",
        "    # we are trying to collapse the (N,16,10,10) into a single index as (N,400) for flattening and using the fully connected layer\n",
        "    # -1 means of 1 size index\n",
        "    x=x.view(x.size(0),-1)\n",
        "    print(x.shape)\n",
        "    x=self.fc_model(x)\n",
        "    print(x.shape)\n",
        "    return x"
      ],
      "metadata": {
        "id": "caTSUM6-kSsR"
      },
      "execution_count": null,
      "outputs": []
    },
    {
      "cell_type": "code",
      "source": [
        "net=LeNet()\n",
        "out=net(images)\n"
      ],
      "metadata": {
        "colab": {
          "base_uri": "https://localhost:8080/"
        },
        "id": "ywMWBjBxwUja",
        "outputId": "1663aaf9-cb70-40b1-c944-e3232d905ade"
      },
      "execution_count": null,
      "outputs": [
        {
          "output_type": "stream",
          "name": "stdout",
          "text": [
            "torch.Size([4, 3, 32, 32])\n",
            "torch.Size([4, 16, 5, 5])\n",
            "torch.Size([4, 400])\n",
            "torch.Size([4, 10])\n"
          ]
        }
      ]
    },
    {
      "cell_type": "code",
      "source": [
        "print(out)\n",
        "# 4 rows for images in the batches\n",
        "# the one that is largest is the one the network is predicting for that particualr image\n",
        "# like 0.0905 is predicting horse\n",
        "# probablities for all the 10 classes here the result is +ve and -ve is coz we are not applying softmax"
      ],
      "metadata": {
        "colab": {
          "base_uri": "https://localhost:8080/"
        },
        "id": "NAs10QJ60WdH",
        "outputId": "eccad818-149f-4c0a-b9ca-eab1ecc5b7b9"
      },
      "execution_count": null,
      "outputs": [
        {
          "output_type": "stream",
          "name": "stdout",
          "text": [
            "tensor([[-0.0436,  0.0630,  0.0174, -0.1552,  0.0209, -0.1144,  0.0639, -0.0280,\n",
            "         -0.0426, -0.0325],\n",
            "        [-0.0454,  0.0692,  0.0025, -0.1353, -0.0009, -0.1227,  0.0667, -0.0460,\n",
            "         -0.0525, -0.0426],\n",
            "        [-0.0497,  0.0680,  0.0079, -0.1563,  0.0035, -0.1214,  0.0560, -0.0414,\n",
            "         -0.0638, -0.0433],\n",
            "        [-0.0481,  0.0695,  0.0003, -0.1439,  0.0095, -0.1185,  0.0502, -0.0587,\n",
            "         -0.0723, -0.0363]], grad_fn=<AddmmBackward0>)\n"
          ]
        }
      ]
    },
    {
      "cell_type": "code",
      "source": [
        "max_values,pred_class=torch.max(out.data,1)\n",
        "print(pred_class)\n",
        "# this is showing max value from each row here we are getting in 4 the max value"
      ],
      "metadata": {
        "colab": {
          "base_uri": "https://localhost:8080/"
        },
        "id": "f76SGfjN0Xtg",
        "outputId": "53879f6e-dacf-4952-b6b9-ba32fc65b4e0"
      },
      "execution_count": null,
      "outputs": [
        {
          "output_type": "stream",
          "name": "stdout",
          "text": [
            "tensor([6, 1, 1, 1])\n"
          ]
        }
      ]
    },
    {
      "cell_type": "markdown",
      "source": [
        "Training LeNEt"
      ],
      "metadata": {
        "id": "mJTcvzxK2_MR"
      }
    },
    {
      "cell_type": "code",
      "source": [
        "batch_size=128\n",
        "# taking batch size as 128\n",
        "trainset=torchvision.datasets.CIFAR10(root='./data',train=True,download=True,transform=transforms.ToTensor())\n",
        "trainloader=torch.utils.data.DataLoader(trainset,batch_size=batch_size,shuffle=True)\n",
        "testset=torchvision.datasets.CIFAR10(root='./data',train=False,download=True,transform=transforms.ToTensor())\n",
        "testloader=torch.utils.data.DataLoader(trainset,batch_size=batch_size,shuffle=True)"
      ],
      "metadata": {
        "colab": {
          "base_uri": "https://localhost:8080/"
        },
        "id": "RGmYkihf2IMx",
        "outputId": "c2dec1b4-c59f-49e8-e5fa-5eeabd623b78"
      },
      "execution_count": null,
      "outputs": [
        {
          "output_type": "stream",
          "name": "stdout",
          "text": [
            "Files already downloaded and verified\n",
            "Files already downloaded and verified\n"
          ]
        }
      ]
    },
    {
      "cell_type": "code",
      "source": [
        "def evaluation(dataloader):\n",
        "  # for computing the accuracy\n",
        "  total,correct=0,0\n",
        "  for data in dataloader:\n",
        "    inputs,labels=data\n",
        "    outputs=net(inputs)\n",
        "    _,pred=torch.max(outputs.data,1)\n",
        "    total+=labels.size(0)\n",
        "    correct+=(pred==labels).sum().item()\n",
        "    # returning percentage of accurate prediction\n",
        "  return 100*correct/total"
      ],
      "metadata": {
        "id": "pS9hAPS83Z0S"
      },
      "execution_count": null,
      "outputs": []
    },
    {
      "cell_type": "code",
      "source": [
        "net=LeNet()"
      ],
      "metadata": {
        "id": "FTXVIjOGqCuU"
      },
      "execution_count": null,
      "outputs": []
    },
    {
      "cell_type": "code",
      "source": [
        "import torch.optim as optim\n",
        "loss_fn=nn.CrossEntropyLoss()\n",
        "# CE takes a softmax  and we are taking Adam as optimizer\n",
        "opt=optim.Adam(net.parameters())"
      ],
      "metadata": {
        "id": "9Ozs1g3lqC5A"
      },
      "execution_count": null,
      "outputs": []
    },
    {
      "cell_type": "code",
      "source": [
        "# %%time\n",
        "# loss_arr=[]\n",
        "# loss_epoch_arr=[]\n",
        "# max_epochs=16\n",
        "# for epoch in range(max_epochs):\n",
        "#   for i,data in enumerate(trainloader,0):\n",
        "#     inputs,labels=data\n",
        "#     opt.zero_grad()\n",
        "#     outputs=net(inputs)\n",
        "#     loss=loss_fn(outputs,labels)\n",
        "#     loss.backward()\n",
        "#     opt.step()\n",
        "#     loss_arr.append(loss.item())\n",
        "#   loss_epoch_arr.append(loss.item())\n",
        "#   print('Epoch %d%d,Test acc:%0.2f'%(epoch,max_epochs-1,evaluation(testloader)))\n",
        "# plt.plot(loss_epoch_arr)\n",
        "# plt.show()\n",
        "# # so at the end  we see a hike in loss w hich means we have diverged significantly between the test and the train"
      ],
      "metadata": {
        "id": "wsOsQ5xCqUwK"
      },
      "execution_count": null,
      "outputs": []
    },
    {
      "cell_type": "markdown",
      "source": [
        "Move to GPU"
      ],
      "metadata": {
        "id": "00SbXYM8wZBA"
      }
    },
    {
      "cell_type": "code",
      "source": [
        "device=torch.device('cuda:0' if torch.cuda.is_available() else 'cpu')\n",
        "print(device)"
      ],
      "metadata": {
        "colab": {
          "base_uri": "https://localhost:8080/"
        },
        "id": "iBMiK6DVwX_1",
        "outputId": "80b025ea-a511-44cf-9de4-f95b554cc750"
      },
      "execution_count": null,
      "outputs": [
        {
          "output_type": "stream",
          "name": "stdout",
          "text": [
            "cuda:0\n"
          ]
        }
      ]
    },
    {
      "cell_type": "code",
      "source": [
        "def evaluation(dataloader):\n",
        "  total,correct=0,0\n",
        "  for data in dataloader:\n",
        "    inputs,labels=data\n",
        "    inputs,labels=inputs.to(device  ),labels.to(device)\n",
        "    outputs=net(inputs)\n",
        "    _,pred=torch.max(outputs.data,1)\n",
        "    total+=labels.size(0)\n",
        "    correct+=(pred==labels).sum().item()\n",
        "  return 100* correct/total"
      ],
      "metadata": {
        "id": "zcujWzWuwvt1"
      },
      "execution_count": null,
      "outputs": []
    },
    {
      "cell_type": "code",
      "source": [
        "net=LeNet().to(device)\n",
        "Loss_fn=nn.CrossEntropyLoss()\n",
        "opt=optim.Adam(net.parameters())"
      ],
      "metadata": {
        "id": "W4uBTPRwxANg"
      },
      "execution_count": null,
      "outputs": []
    },
    {
      "cell_type": "code",
      "source": [
        "# %%time\n",
        "# max_epochs=16\n",
        "# for epoch in range(max_epochs):\n",
        "#   for i,data in enumerate(trainloader,0):\n",
        "#     inputs,labels=data\n",
        "#     inputs,labels=inputs.to(device),labels.to(device)\n",
        "#     opt.zero_grad()\n",
        "#     outputs=net(inputs)\n",
        "#     loss=loss_fn(outputs,labels)\n",
        "#     loss.backward()\n",
        "#     opt.step()\n",
        "#   print('Epoch: %d%d' %(epoch,max_epochs))"
      ],
      "metadata": {
        "id": "5uR7zAdvxenV"
      },
      "execution_count": null,
      "outputs": []
    },
    {
      "cell_type": "code",
      "source": [
        "# print('Test acc:%0.2f,Train acc %0.2f' %(evaluation(testloader),evaluation(trainloader)))"
      ],
      "metadata": {
        "id": "ogMYftlDsjh3"
      },
      "execution_count": null,
      "outputs": []
    },
    {
      "cell_type": "markdown",
      "source": [
        "Basic Visualization"
      ],
      "metadata": {
        "id": "OfH2Jb6E8bdi"
      }
    },
    {
      "cell_type": "code",
      "source": [
        "# this is the intial image of 1 st batch\n",
        "imshow(torchvision.utils.make_grid(images))"
      ],
      "metadata": {
        "id": "y3FfBqOQwu5z",
        "colab": {
          "base_uri": "https://localhost:8080/",
          "height": 193
        },
        "outputId": "68e5bcc3-34fc-4b48-91f2-74f363277a4b"
      },
      "execution_count": null,
      "outputs": [
        {
          "output_type": "display_data",
          "data": {
            "text/plain": [
              "<Figure size 640x480 with 1 Axes>"
            ],
            "image/png": "[encoded data removed]"
          },
          "metadata": {}
        }
      ]
    },
    {
      "cell_type": "code",
      "source": [
        "net=net.to('cpu')"
      ],
      "metadata": {
        "id": "rwld6SLawN8A"
      },
      "execution_count": null,
      "outputs": []
    },
    {
      "cell_type": "code",
      "source": [
        "out=net(images)\n",
        "print(out.shape)"
      ],
      "metadata": {
        "colab": {
          "base_uri": "https://localhost:8080/"
        },
        "id": "euPsXRfZ9NE8",
        "outputId": "34565325-1616-4947-fa24-87cc31434abf"
      },
      "execution_count": null,
      "outputs": [
        {
          "output_type": "stream",
          "name": "stdout",
          "text": [
            "torch.Size([4, 3, 32, 32])\n",
            "torch.Size([4, 16, 5, 5])\n",
            "torch.Size([4, 400])\n",
            "torch.Size([4, 10])\n",
            "torch.Size([4, 10])\n"
          ]
        }
      ]
    },
    {
      "cell_type": "code",
      "source": [
        "# we are trying to find the visualization of first convolutional layer here\n",
        "# (N,3,32,32)->(N,6,28,28)\n",
        "# so i am looking for an output of 6 images of size 28 X 28 of # (N,6,28,28) 6 channels\n",
        "# here 6 channels does not mean RGB rather it means different feature map learned by filter\n",
        "out=net.cnn_model[0](images)\n",
        "out.shape"
      ],
      "metadata": {
        "colab": {
          "base_uri": "https://localhost:8080/"
        },
        "id": "_7ZU2rD49PF1",
        "outputId": "56ac15d8-ca70-40c8-ae3e-6c0453336cdb"
      },
      "execution_count": null,
      "outputs": [
        {
          "output_type": "execute_result",
          "data": {
            "text/plain": [
              "torch.Size([4, 6, 28, 28])"
            ]
          },
          "metadata": {},
          "execution_count": 41
        }
      ]
    },
    {
      "cell_type": "code",
      "source": [
        "# let  us take one image from the above image lets say last one\n",
        "image_id=3\n",
        "plt.figure(figsize=(2,2))\n",
        "imshow(images[image_id,])"
      ],
      "metadata": {
        "colab": {
          "base_uri": "https://localhost:8080/",
          "height": 217
        },
        "id": "RUtz4Vbz9Vea",
        "outputId": "79b6cf00-c1af-47c8-89d0-e928b5333a3c"
      },
      "execution_count": null,
      "outputs": [
        {
          "output_type": "display_data",
          "data": {
            "text/plain": [
              "<Figure size 200x200 with 1 Axes>"
            ],
            "image/png": "[encoded data removed]"
          },
          "metadata": {}
        }
      ]
    },
    {
      "cell_type": "code",
      "source": [
        "plt.figure(figsize=(6,6))\n",
        "plt.subplot(321)\n",
        "for i in range(6):\n",
        "\n",
        "  axl=plt.subplot(3,2,i+1)\n",
        "  plt.imshow(out[image_id,i,:,:].detach().numpy(),cmap='binary')\n",
        "# Yes, the 6 images shown in the plot represent the feature maps (or activations)\n",
        "# generated by the filters in the first convolutional layer for a single input image.\n"
      ],
      "metadata": {
        "colab": {
          "base_uri": "https://localhost:8080/",
          "height": 525
        },
        "id": "R0RdIfuQ9lUP",
        "outputId": "b998b009-d6df-434b-caa7-ad862ea5384a"
      },
      "execution_count": null,
      "outputs": [
        {
          "output_type": "display_data",
          "data": {
            "text/plain": [
              "<Figure size 600x600 with 6 Axes>"
            ],
            "image/png": "[encoded data removed]"
          },
          "metadata": {}
        }
      ]
    },
    {
      "cell_type": "code",
      "source": [],
      "metadata": {
        "id": "5g3asu_e-nPQ"
      },
      "execution_count": null,
      "outputs": []
    }
  ]
}